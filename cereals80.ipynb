{
 "cells": [
  {
   "cell_type": "code",
   "execution_count": 1,
   "id": "94e2e628",
   "metadata": {
    "_cell_guid": "b1076dfc-b9ad-4769-8c92-a6c4dae69d19",
    "_uuid": "8f2839f25d086af736a60e9eeb907d3b93b6e0e5",
    "execution": {
     "iopub.execute_input": "2023-08-27T20:05:41.573259Z",
     "iopub.status.busy": "2023-08-27T20:05:41.572794Z",
     "iopub.status.idle": "2023-08-27T20:05:41.590964Z",
     "shell.execute_reply": "2023-08-27T20:05:41.589806Z"
    },
    "papermill": {
     "duration": 0.028573,
     "end_time": "2023-08-27T20:05:41.593858",
     "exception": false,
     "start_time": "2023-08-27T20:05:41.565285",
     "status": "completed"
    },
    "tags": []
   },
   "outputs": [
    {
     "name": "stdout",
     "output_type": "stream",
     "text": [
      "/kaggle/input/80-cereals/cereal.csv\n"
     ]
    }
   ],
   "source": [
    "\n",
    "#Import Library\n",
    "import numpy as np \n",
    "import pandas as pd\n",
    "\n",
    "from pandas import DataFrame\n",
    "import os\n",
    "for dirname, _, filenames in os.walk('/kaggle/input'):\n",
    "    for filename in filenames:\n",
    "        print(os.path.join(dirname, filename))\n"
   ]
  },
  {
   "cell_type": "code",
   "execution_count": 2,
   "id": "03cffcf8",
   "metadata": {
    "execution": {
     "iopub.execute_input": "2023-08-27T20:05:41.606007Z",
     "iopub.status.busy": "2023-08-27T20:05:41.605539Z",
     "iopub.status.idle": "2023-08-27T20:05:41.628217Z",
     "shell.execute_reply": "2023-08-27T20:05:41.626862Z"
    },
    "papermill": {
     "duration": 0.032152,
     "end_time": "2023-08-27T20:05:41.631267",
     "exception": false,
     "start_time": "2023-08-27T20:05:41.599115",
     "status": "completed"
    },
    "tags": []
   },
   "outputs": [],
   "source": [
    "#Import file\n",
    "df_cereals=pd.read_csv('../input/80-cereals/cereal.csv')"
   ]
  },
  {
   "cell_type": "code",
   "execution_count": 3,
   "id": "edf19543",
   "metadata": {
    "execution": {
     "iopub.execute_input": "2023-08-27T20:05:41.643848Z",
     "iopub.status.busy": "2023-08-27T20:05:41.643124Z",
     "iopub.status.idle": "2023-08-27T20:05:41.679377Z",
     "shell.execute_reply": "2023-08-27T20:05:41.677761Z"
    },
    "papermill": {
     "duration": 0.046024,
     "end_time": "2023-08-27T20:05:41.682247",
     "exception": false,
     "start_time": "2023-08-27T20:05:41.636223",
     "status": "completed"
    },
    "tags": []
   },
   "outputs": [
    {
     "name": "stdout",
     "output_type": "stream",
     "text": [
      "<class 'pandas.core.frame.DataFrame'>\n",
      "RangeIndex: 77 entries, 0 to 76\n",
      "Data columns (total 16 columns):\n",
      " #   Column    Non-Null Count  Dtype  \n",
      "---  ------    --------------  -----  \n",
      " 0   name      77 non-null     object \n",
      " 1   mfr       77 non-null     object \n",
      " 2   type      77 non-null     object \n",
      " 3   calories  77 non-null     int64  \n",
      " 4   protein   77 non-null     int64  \n",
      " 5   fat       77 non-null     int64  \n",
      " 6   sodium    77 non-null     int64  \n",
      " 7   fiber     77 non-null     float64\n",
      " 8   carbo     77 non-null     float64\n",
      " 9   sugars    77 non-null     int64  \n",
      " 10  potass    77 non-null     int64  \n",
      " 11  vitamins  77 non-null     int64  \n",
      " 12  shelf     77 non-null     int64  \n",
      " 13  weight    77 non-null     float64\n",
      " 14  cups      77 non-null     float64\n",
      " 15  rating    77 non-null     float64\n",
      "dtypes: float64(5), int64(8), object(3)\n",
      "memory usage: 9.8+ KB\n"
     ]
    }
   ],
   "source": [
    "#info file\n",
    "df_cereals.info()\n"
   ]
  },
  {
   "cell_type": "code",
   "execution_count": 4,
   "id": "8ef2d7e8",
   "metadata": {
    "execution": {
     "iopub.execute_input": "2023-08-27T20:05:41.693844Z",
     "iopub.status.busy": "2023-08-27T20:05:41.693396Z",
     "iopub.status.idle": "2023-08-27T20:05:41.701854Z",
     "shell.execute_reply": "2023-08-27T20:05:41.700464Z"
    },
    "papermill": {
     "duration": 0.017791,
     "end_time": "2023-08-27T20:05:41.704976",
     "exception": false,
     "start_time": "2023-08-27T20:05:41.687185",
     "status": "completed"
    },
    "tags": []
   },
   "outputs": [
    {
     "name": "stdout",
     "output_type": "stream",
     "text": [
      "name        0\n",
      "mfr         0\n",
      "type        0\n",
      "calories    0\n",
      "protein     0\n",
      "fat         0\n",
      "sodium      0\n",
      "fiber       0\n",
      "carbo       0\n",
      "sugars      0\n",
      "potass      0\n",
      "vitamins    0\n",
      "shelf       0\n",
      "weight      0\n",
      "cups        0\n",
      "rating      0\n",
      "dtype: int64\n"
     ]
    }
   ],
   "source": [
    "#display if there are some null value\n",
    "print(df_cereals.isnull().sum())"
   ]
  },
  {
   "cell_type": "code",
   "execution_count": 5,
   "id": "4ec1baa0",
   "metadata": {
    "execution": {
     "iopub.execute_input": "2023-08-27T20:05:41.717034Z",
     "iopub.status.busy": "2023-08-27T20:05:41.716641Z",
     "iopub.status.idle": "2023-08-27T20:05:41.735949Z",
     "shell.execute_reply": "2023-08-27T20:05:41.734862Z"
    },
    "papermill": {
     "duration": 0.029436,
     "end_time": "2023-08-27T20:05:41.739502",
     "exception": false,
     "start_time": "2023-08-27T20:05:41.710066",
     "status": "completed"
    },
    "tags": []
   },
   "outputs": [
    {
     "name": "stdout",
     "output_type": "stream",
     "text": [
      "<class 'pandas.core.frame.DataFrame'>\n",
      "RangeIndex: 77 entries, 0 to 76\n",
      "Data columns (total 15 columns):\n",
      " #   Column    Non-Null Count  Dtype  \n",
      "---  ------    --------------  -----  \n",
      " 0   name      77 non-null     object \n",
      " 1   mfr       77 non-null     object \n",
      " 2   type      77 non-null     object \n",
      " 3   calories  77 non-null     int64  \n",
      " 4   protein   77 non-null     int64  \n",
      " 5   fat       77 non-null     int64  \n",
      " 6   sodium    77 non-null     int64  \n",
      " 7   fiber     77 non-null     float64\n",
      " 8   carbo     77 non-null     float64\n",
      " 9   sugars    77 non-null     int64  \n",
      " 10  potass    77 non-null     int64  \n",
      " 11  vitamins  77 non-null     int64  \n",
      " 12  weight    77 non-null     float64\n",
      " 13  cups      77 non-null     float64\n",
      " 14  rating    77 non-null     float64\n",
      "dtypes: float64(5), int64(7), object(3)\n",
      "memory usage: 9.1+ KB\n"
     ]
    }
   ],
   "source": [
    "#drop shelf column\n",
    "df_cereals.drop('shelf', axis=1, inplace=True)\n",
    "df_cereals.info()"
   ]
  },
  {
   "cell_type": "code",
   "execution_count": 6,
   "id": "29b0490a",
   "metadata": {
    "execution": {
     "iopub.execute_input": "2023-08-27T20:05:41.752776Z",
     "iopub.status.busy": "2023-08-27T20:05:41.751686Z",
     "iopub.status.idle": "2023-08-27T20:05:41.792646Z",
     "shell.execute_reply": "2023-08-27T20:05:41.791318Z"
    },
    "papermill": {
     "duration": 0.050725,
     "end_time": "2023-08-27T20:05:41.795670",
     "exception": false,
     "start_time": "2023-08-27T20:05:41.744945",
     "status": "completed"
    },
    "tags": []
   },
   "outputs": [
    {
     "data": {
      "text/html": [
       "<div>\n",
       "<style scoped>\n",
       "    .dataframe tbody tr th:only-of-type {\n",
       "        vertical-align: middle;\n",
       "    }\n",
       "\n",
       "    .dataframe tbody tr th {\n",
       "        vertical-align: top;\n",
       "    }\n",
       "\n",
       "    .dataframe thead th {\n",
       "        text-align: right;\n",
       "    }\n",
       "</style>\n",
       "<table border=\"1\" class=\"dataframe\">\n",
       "  <thead>\n",
       "    <tr style=\"text-align: right;\">\n",
       "      <th></th>\n",
       "      <th>name</th>\n",
       "      <th>mfr</th>\n",
       "      <th>type</th>\n",
       "      <th>calories</th>\n",
       "      <th>protein</th>\n",
       "      <th>fat</th>\n",
       "      <th>sodium</th>\n",
       "      <th>fiber</th>\n",
       "      <th>carbo</th>\n",
       "      <th>sugars</th>\n",
       "      <th>potass</th>\n",
       "      <th>vitamins</th>\n",
       "      <th>weight</th>\n",
       "      <th>cups</th>\n",
       "      <th>rating</th>\n",
       "    </tr>\n",
       "  </thead>\n",
       "  <tbody>\n",
       "    <tr>\n",
       "      <th>0</th>\n",
       "      <td>100% Bran</td>\n",
       "      <td>Nabisco</td>\n",
       "      <td>C</td>\n",
       "      <td>70</td>\n",
       "      <td>4</td>\n",
       "      <td>1</td>\n",
       "      <td>130</td>\n",
       "      <td>10.0</td>\n",
       "      <td>5.0</td>\n",
       "      <td>6</td>\n",
       "      <td>280</td>\n",
       "      <td>25</td>\n",
       "      <td>1.0</td>\n",
       "      <td>0.33</td>\n",
       "      <td>68.402973</td>\n",
       "    </tr>\n",
       "    <tr>\n",
       "      <th>1</th>\n",
       "      <td>100% Natural Bran</td>\n",
       "      <td>Quaker Oats</td>\n",
       "      <td>C</td>\n",
       "      <td>120</td>\n",
       "      <td>3</td>\n",
       "      <td>5</td>\n",
       "      <td>15</td>\n",
       "      <td>2.0</td>\n",
       "      <td>8.0</td>\n",
       "      <td>8</td>\n",
       "      <td>135</td>\n",
       "      <td>0</td>\n",
       "      <td>1.0</td>\n",
       "      <td>1.00</td>\n",
       "      <td>33.983679</td>\n",
       "    </tr>\n",
       "    <tr>\n",
       "      <th>2</th>\n",
       "      <td>All-Bran</td>\n",
       "      <td>Kelloggs</td>\n",
       "      <td>C</td>\n",
       "      <td>70</td>\n",
       "      <td>4</td>\n",
       "      <td>1</td>\n",
       "      <td>260</td>\n",
       "      <td>9.0</td>\n",
       "      <td>7.0</td>\n",
       "      <td>5</td>\n",
       "      <td>320</td>\n",
       "      <td>25</td>\n",
       "      <td>1.0</td>\n",
       "      <td>0.33</td>\n",
       "      <td>59.425505</td>\n",
       "    </tr>\n",
       "    <tr>\n",
       "      <th>3</th>\n",
       "      <td>All-Bran with Extra Fiber</td>\n",
       "      <td>Kelloggs</td>\n",
       "      <td>C</td>\n",
       "      <td>50</td>\n",
       "      <td>4</td>\n",
       "      <td>0</td>\n",
       "      <td>140</td>\n",
       "      <td>14.0</td>\n",
       "      <td>8.0</td>\n",
       "      <td>0</td>\n",
       "      <td>330</td>\n",
       "      <td>25</td>\n",
       "      <td>1.0</td>\n",
       "      <td>0.50</td>\n",
       "      <td>93.704912</td>\n",
       "    </tr>\n",
       "    <tr>\n",
       "      <th>4</th>\n",
       "      <td>Almond Delight</td>\n",
       "      <td>Ralston Purina</td>\n",
       "      <td>C</td>\n",
       "      <td>110</td>\n",
       "      <td>2</td>\n",
       "      <td>2</td>\n",
       "      <td>200</td>\n",
       "      <td>1.0</td>\n",
       "      <td>14.0</td>\n",
       "      <td>8</td>\n",
       "      <td>-1</td>\n",
       "      <td>25</td>\n",
       "      <td>1.0</td>\n",
       "      <td>0.75</td>\n",
       "      <td>34.384843</td>\n",
       "    </tr>\n",
       "    <tr>\n",
       "      <th>...</th>\n",
       "      <td>...</td>\n",
       "      <td>...</td>\n",
       "      <td>...</td>\n",
       "      <td>...</td>\n",
       "      <td>...</td>\n",
       "      <td>...</td>\n",
       "      <td>...</td>\n",
       "      <td>...</td>\n",
       "      <td>...</td>\n",
       "      <td>...</td>\n",
       "      <td>...</td>\n",
       "      <td>...</td>\n",
       "      <td>...</td>\n",
       "      <td>...</td>\n",
       "      <td>...</td>\n",
       "    </tr>\n",
       "    <tr>\n",
       "      <th>72</th>\n",
       "      <td>Triples</td>\n",
       "      <td>General Mils</td>\n",
       "      <td>C</td>\n",
       "      <td>110</td>\n",
       "      <td>2</td>\n",
       "      <td>1</td>\n",
       "      <td>250</td>\n",
       "      <td>0.0</td>\n",
       "      <td>21.0</td>\n",
       "      <td>3</td>\n",
       "      <td>60</td>\n",
       "      <td>25</td>\n",
       "      <td>1.0</td>\n",
       "      <td>0.75</td>\n",
       "      <td>39.106174</td>\n",
       "    </tr>\n",
       "    <tr>\n",
       "      <th>73</th>\n",
       "      <td>Trix</td>\n",
       "      <td>General Mils</td>\n",
       "      <td>C</td>\n",
       "      <td>110</td>\n",
       "      <td>1</td>\n",
       "      <td>1</td>\n",
       "      <td>140</td>\n",
       "      <td>0.0</td>\n",
       "      <td>13.0</td>\n",
       "      <td>12</td>\n",
       "      <td>25</td>\n",
       "      <td>25</td>\n",
       "      <td>1.0</td>\n",
       "      <td>1.00</td>\n",
       "      <td>27.753301</td>\n",
       "    </tr>\n",
       "    <tr>\n",
       "      <th>74</th>\n",
       "      <td>Wheat Chex</td>\n",
       "      <td>Ralston Purina</td>\n",
       "      <td>C</td>\n",
       "      <td>100</td>\n",
       "      <td>3</td>\n",
       "      <td>1</td>\n",
       "      <td>230</td>\n",
       "      <td>3.0</td>\n",
       "      <td>17.0</td>\n",
       "      <td>3</td>\n",
       "      <td>115</td>\n",
       "      <td>25</td>\n",
       "      <td>1.0</td>\n",
       "      <td>0.67</td>\n",
       "      <td>49.787445</td>\n",
       "    </tr>\n",
       "    <tr>\n",
       "      <th>75</th>\n",
       "      <td>Wheaties</td>\n",
       "      <td>General Mils</td>\n",
       "      <td>C</td>\n",
       "      <td>100</td>\n",
       "      <td>3</td>\n",
       "      <td>1</td>\n",
       "      <td>200</td>\n",
       "      <td>3.0</td>\n",
       "      <td>17.0</td>\n",
       "      <td>3</td>\n",
       "      <td>110</td>\n",
       "      <td>25</td>\n",
       "      <td>1.0</td>\n",
       "      <td>1.00</td>\n",
       "      <td>51.592193</td>\n",
       "    </tr>\n",
       "    <tr>\n",
       "      <th>76</th>\n",
       "      <td>Wheaties Honey Gold</td>\n",
       "      <td>General Mils</td>\n",
       "      <td>C</td>\n",
       "      <td>110</td>\n",
       "      <td>2</td>\n",
       "      <td>1</td>\n",
       "      <td>200</td>\n",
       "      <td>1.0</td>\n",
       "      <td>16.0</td>\n",
       "      <td>8</td>\n",
       "      <td>60</td>\n",
       "      <td>25</td>\n",
       "      <td>1.0</td>\n",
       "      <td>0.75</td>\n",
       "      <td>36.187559</td>\n",
       "    </tr>\n",
       "  </tbody>\n",
       "</table>\n",
       "<p>77 rows × 15 columns</p>\n",
       "</div>"
      ],
      "text/plain": [
       "                         name             mfr type  calories  protein  fat  \\\n",
       "0                   100% Bran         Nabisco    C        70        4    1   \n",
       "1           100% Natural Bran     Quaker Oats    C       120        3    5   \n",
       "2                    All-Bran        Kelloggs    C        70        4    1   \n",
       "3   All-Bran with Extra Fiber        Kelloggs    C        50        4    0   \n",
       "4              Almond Delight  Ralston Purina    C       110        2    2   \n",
       "..                        ...             ...  ...       ...      ...  ...   \n",
       "72                    Triples    General Mils    C       110        2    1   \n",
       "73                       Trix    General Mils    C       110        1    1   \n",
       "74                 Wheat Chex  Ralston Purina    C       100        3    1   \n",
       "75                   Wheaties    General Mils    C       100        3    1   \n",
       "76        Wheaties Honey Gold    General Mils    C       110        2    1   \n",
       "\n",
       "    sodium  fiber  carbo  sugars  potass  vitamins  weight  cups     rating  \n",
       "0      130   10.0    5.0       6     280        25     1.0  0.33  68.402973  \n",
       "1       15    2.0    8.0       8     135         0     1.0  1.00  33.983679  \n",
       "2      260    9.0    7.0       5     320        25     1.0  0.33  59.425505  \n",
       "3      140   14.0    8.0       0     330        25     1.0  0.50  93.704912  \n",
       "4      200    1.0   14.0       8      -1        25     1.0  0.75  34.384843  \n",
       "..     ...    ...    ...     ...     ...       ...     ...   ...        ...  \n",
       "72     250    0.0   21.0       3      60        25     1.0  0.75  39.106174  \n",
       "73     140    0.0   13.0      12      25        25     1.0  1.00  27.753301  \n",
       "74     230    3.0   17.0       3     115        25     1.0  0.67  49.787445  \n",
       "75     200    3.0   17.0       3     110        25     1.0  1.00  51.592193  \n",
       "76     200    1.0   16.0       8      60        25     1.0  0.75  36.187559  \n",
       "\n",
       "[77 rows x 15 columns]"
      ]
     },
     "execution_count": 6,
     "metadata": {},
     "output_type": "execute_result"
    }
   ],
   "source": [
    "# Replace with complete name the Manufacture Name\n",
    "df_cereals = df_cereals.replace(\"N\",\"Nabisco\").replace(\"Q\",\"Quaker Oats\").replace(\"A\",\"American Home Food Products\").replace(\"K\",\"Kelloggs\").replace(\"P\",\"Post\").replace(\"R\",\"Ralston Purina\").replace(\"G\",\"General Mils\")\n",
    "df_cereals"
   ]
  },
  {
   "cell_type": "code",
   "execution_count": 7,
   "id": "041a8de4",
   "metadata": {
    "execution": {
     "iopub.execute_input": "2023-08-27T20:05:41.810356Z",
     "iopub.status.busy": "2023-08-27T20:05:41.809915Z",
     "iopub.status.idle": "2023-08-27T20:05:41.819344Z",
     "shell.execute_reply": "2023-08-27T20:05:41.818115Z"
    },
    "papermill": {
     "duration": 0.019819,
     "end_time": "2023-08-27T20:05:41.822022",
     "exception": false,
     "start_time": "2023-08-27T20:05:41.802203",
     "status": "completed"
    },
    "tags": []
   },
   "outputs": [
    {
     "name": "stdout",
     "output_type": "stream",
     "text": [
      "Manufacture\n"
     ]
    }
   ],
   "source": [
    "#display how many cereals produce every Manufacture\n",
    "Manufacture = df_cereals.groupby('mfr').count()['name']\n",
    "print('Manufacture')"
   ]
  },
  {
   "cell_type": "code",
   "execution_count": 8,
   "id": "34b4e7f2",
   "metadata": {
    "execution": {
     "iopub.execute_input": "2023-08-27T20:05:41.835827Z",
     "iopub.status.busy": "2023-08-27T20:05:41.835397Z",
     "iopub.status.idle": "2023-08-27T20:05:41.850503Z",
     "shell.execute_reply": "2023-08-27T20:05:41.849018Z"
    },
    "papermill": {
     "duration": 0.025549,
     "end_time": "2023-08-27T20:05:41.853374",
     "exception": false,
     "start_time": "2023-08-27T20:05:41.827825",
     "status": "completed"
    },
    "tags": []
   },
   "outputs": [
    {
     "name": "stdout",
     "output_type": "stream",
     "text": [
      "The average Rating of Manufacture based on customers satisfy is :\n",
      "                              rating\n",
      "mfr                                \n",
      "American Home Food Products    55.0\n",
      "General Mils                   34.0\n",
      "Kelloggs                       44.0\n",
      "Nabisco                        68.0\n",
      "Post                           42.0\n",
      "Quaker Oats                    43.0\n",
      "Ralston Purina                 42.0\n"
     ]
    }
   ],
   "source": [
    "# find the average of rating based on customers experience for every Manufactures:\n",
    "AvgRating = df_cereals[[\"mfr\",\"rating\"]].groupby(\"mfr\").mean()\n",
    "\n",
    "\n",
    "#print the result rounded the number\n",
    "print(\"The average Rating of Manufacture based on customers satisfy is :\\n\" ,np.round(AvgRating))"
   ]
  },
  {
   "cell_type": "code",
   "execution_count": 9,
   "id": "702c87b2",
   "metadata": {
    "execution": {
     "iopub.execute_input": "2023-08-27T20:05:41.867569Z",
     "iopub.status.busy": "2023-08-27T20:05:41.867087Z",
     "iopub.status.idle": "2023-08-27T20:05:42.287704Z",
     "shell.execute_reply": "2023-08-27T20:05:42.286419Z"
    },
    "papermill": {
     "duration": 0.430843,
     "end_time": "2023-08-27T20:05:42.290565",
     "exception": false,
     "start_time": "2023-08-27T20:05:41.859722",
     "status": "completed"
    },
    "tags": []
   },
   "outputs": [
    {
     "name": "stdout",
     "output_type": "stream",
     "text": [
      "                       rating\n",
      "name                         \n",
      "Cap'n'Crunch             18.0\n",
      "Cinnamon Toast Crunch    20.0\n",
      "Honey Graham Ohs         22.0\n",
      "Count Chocula            22.0\n",
      "Cocoa Puffs              23.0\n",
      "Golden Grahams           24.0\n"
     ]
    },
    {
     "data": {
      "text/plain": [
       "Text(0.5, 1.0, 'Top Product')"
      ]
     },
     "execution_count": 9,
     "metadata": {},
     "output_type": "execute_result"
    },
    {
     "data": {
      "image/png": "[encoded data removed]",
      "text/plain": [
       "<Figure size 640x480 with 1 Axes>"
      ]
     },
     "metadata": {},
     "output_type": "display_data"
    }
   ],
   "source": [
    "#top 5 product by rating avg\n",
    "avgProduct = df_cereals[[\"name\",\"rating\"]].groupby(\"name\").mean().round().sort_values('rating', ascending=True)\n",
    "\n",
    "print(avgProduct[0:6])\n",
    "\n",
    "\n",
    "#plot\n",
    "import matplotlib.pyplot as plt\n",
    "\n",
    "avgProduct[0:6].plot(kind='barh')\n",
    "plt.ylabel('Name')\n",
    "plt.xlabel('Rating')\n",
    "plt.title('Top Product')\n",
    "\n",
    "#avgProduct[0:6].plot(kind='bar', color='green',width = 0.4, xlabel='Top 5 Product', ylabel='')\n"
   ]
  },
  {
   "cell_type": "code",
   "execution_count": 10,
   "id": "f8704de9",
   "metadata": {
    "execution": {
     "iopub.execute_input": "2023-08-27T20:05:42.305516Z",
     "iopub.status.busy": "2023-08-27T20:05:42.305090Z",
     "iopub.status.idle": "2023-08-27T20:05:42.442830Z",
     "shell.execute_reply": "2023-08-27T20:05:42.440991Z"
    },
    "papermill": {
     "duration": 0.150861,
     "end_time": "2023-08-27T20:05:42.448013",
     "exception": false,
     "start_time": "2023-08-27T20:05:42.297152",
     "status": "completed"
    },
    "tags": []
   },
   "outputs": [
    {
     "data": {
      "image/png": "[encoded data removed]",
      "text/plain": [
       "<Figure size 640x480 with 1 Axes>"
      ]
     },
     "metadata": {},
     "output_type": "display_data"
    }
   ],
   "source": [
    "\n",
    "plt.barh('name[0:6]','rating')\n",
    "plt.ylabel('')\n",
    "plt.xlabel('')\n",
    "plt.title('Top Product')\n",
    "plt.show()"
   ]
  },
  {
   "cell_type": "code",
   "execution_count": 11,
   "id": "ed3a93d6",
   "metadata": {
    "execution": {
     "iopub.execute_input": "2023-08-27T20:05:42.483598Z",
     "iopub.status.busy": "2023-08-27T20:05:42.481559Z",
     "iopub.status.idle": "2023-08-27T20:05:42.506088Z",
     "shell.execute_reply": "2023-08-27T20:05:42.504270Z"
    },
    "papermill": {
     "duration": 0.046137,
     "end_time": "2023-08-27T20:05:42.509545",
     "exception": false,
     "start_time": "2023-08-27T20:05:42.463408",
     "status": "completed"
    },
    "tags": []
   },
   "outputs": [
    {
     "name": "stdout",
     "output_type": "stream",
     "text": [
      "       rating         quality\n",
      "0   68.402973  Medium Quality\n",
      "1   33.983679     Bad Quality\n",
      "2   59.425505  Medium Quality\n",
      "3   93.704912    Good Quality\n",
      "4   34.384843     Bad Quality\n",
      "..        ...             ...\n",
      "72  39.106174     Bad Quality\n",
      "73  27.753301     Bad Quality\n",
      "74  49.787445     Bad Quality\n",
      "75  51.592193  Medium Quality\n",
      "76  36.187559     Bad Quality\n",
      "\n",
      "[77 rows x 2 columns]\n"
     ]
    }
   ],
   "source": [
    "#Display the quality of products\n",
    "df=pd.DataFrame(df_cereals)\n",
    "df.loc[df_cereals['rating']>=70, 'quality']='Good Quality'\n",
    "df.loc[(df_cereals['rating']>=50) & (df_cereals['rating']<70), 'quality'] ='Medium Quality'\n",
    "df.loc[df_cereals['rating']<50, 'quality']='Bad Quality'\n",
    "print(df[['rating','quality']])"
   ]
  }
 ],
 "metadata": {
  "kernelspec": {
   "display_name": "Python 3",
   "language": "python",
   "name": "python3"
  },
  "language_info": {
   "codemirror_mode": {
    "name": "ipython",
    "version": 3
   },
   "file_extension": ".py",
   "mimetype": "text/x-python",
   "name": "python",
   "nbconvert_exporter": "python",
   "pygments_lexer": "ipython3",
   "version": "3.10.12"
  },
  "papermill": {
   "default_parameters": {},
   "duration": 15.610734,
   "end_time": "2023-08-27T20:05:43.541299",
   "environment_variables": {},
   "exception": null,
   "input_path": "__notebook__.ipynb",
   "output_path": "__notebook__.ipynb",
   "parameters": {},
   "start_time": "2023-08-27T20:05:27.930565",
   "version": "2.4.0"
  }
 },
 "nbformat": 4,
 "nbformat_minor": 5
}
